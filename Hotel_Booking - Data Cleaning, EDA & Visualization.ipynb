{
 "cells": [
  {
   "cell_type": "markdown",
   "id": "641beaa2",
   "metadata": {},
   "source": [
    "**Import the libraries.**"
   ]
  },
  {
   "cell_type": "code",
   "execution_count": 52,
   "id": "14a1574b",
   "metadata": {},
   "outputs": [],
   "source": [
    "import pandas as pd\n",
    "import numpy as np\n",
    "import seaborn as sns\n",
    "import matplotlib.pyplot as plt\n",
    "%matplotlib inline\n"
   ]
  },
  {
   "cell_type": "code",
   "execution_count": 53,
   "id": "4ec8fd08",
   "metadata": {},
   "outputs": [
    {
     "data": {
      "text/plain": [
       "(90000, 29)"
      ]
     },
     "execution_count": 53,
     "metadata": {},
     "output_type": "execute_result"
    }
   ],
   "source": [
    "Hotel_df = pd.read_csv(\"E:\\Internship - Data Is Good\\Hospitality minds dataset.csv\")\n",
    "\n",
    "Hotel_df.shape"
   ]
  },
  {
   "cell_type": "code",
   "execution_count": 54,
   "id": "4cd09105",
   "metadata": {},
   "outputs": [
    {
     "data": {
      "text/html": [
       "<div>\n",
       "<style scoped>\n",
       "    .dataframe tbody tr th:only-of-type {\n",
       "        vertical-align: middle;\n",
       "    }\n",
       "\n",
       "    .dataframe tbody tr th {\n",
       "        vertical-align: top;\n",
       "    }\n",
       "\n",
       "    .dataframe thead th {\n",
       "        text-align: right;\n",
       "    }\n",
       "</style>\n",
       "<table border=\"1\" class=\"dataframe\">\n",
       "  <thead>\n",
       "    <tr style=\"text-align: right;\">\n",
       "      <th></th>\n",
       "      <th>Type of Hotel</th>\n",
       "      <th>Year</th>\n",
       "      <th>Month</th>\n",
       "      <th>Reservation Date</th>\n",
       "      <th>Arrival week</th>\n",
       "      <th>Arrival Date</th>\n",
       "      <th>Weekend Stays</th>\n",
       "      <th>Weekday Stays</th>\n",
       "      <th>Meal</th>\n",
       "      <th>Booking Payment</th>\n",
       "      <th>...</th>\n",
       "      <th>Assigned Room</th>\n",
       "      <th>Booking Changes</th>\n",
       "      <th>Waiting List</th>\n",
       "      <th>Customer</th>\n",
       "      <th>Per Day Charges</th>\n",
       "      <th>Parking at premises</th>\n",
       "      <th>Physical Challenged</th>\n",
       "      <th>Reservation Status</th>\n",
       "      <th>Cancellation</th>\n",
       "      <th>Booking Done</th>\n",
       "    </tr>\n",
       "  </thead>\n",
       "  <tbody>\n",
       "    <tr>\n",
       "      <th>0</th>\n",
       "      <td>Motel</td>\n",
       "      <td>2015</td>\n",
       "      <td>July</td>\n",
       "      <td>03-08-2015</td>\n",
       "      <td>31</td>\n",
       "      <td>28</td>\n",
       "      <td>2</td>\n",
       "      <td>3</td>\n",
       "      <td>Bed &amp; Breakfast</td>\n",
       "      <td>No Deposit</td>\n",
       "      <td>...</td>\n",
       "      <td>A</td>\n",
       "      <td>0</td>\n",
       "      <td>0</td>\n",
       "      <td>Contract</td>\n",
       "      <td>132.0</td>\n",
       "      <td>0</td>\n",
       "      <td>2</td>\n",
       "      <td>Check-Out</td>\n",
       "      <td>0</td>\n",
       "      <td>44</td>\n",
       "    </tr>\n",
       "    <tr>\n",
       "      <th>1</th>\n",
       "      <td>Villa</td>\n",
       "      <td>2016</td>\n",
       "      <td>August</td>\n",
       "      <td>30-08-2016</td>\n",
       "      <td>35</td>\n",
       "      <td>25</td>\n",
       "      <td>2</td>\n",
       "      <td>3</td>\n",
       "      <td>Bed &amp; Breakfast</td>\n",
       "      <td>No Deposit</td>\n",
       "      <td>...</td>\n",
       "      <td>A</td>\n",
       "      <td>1</td>\n",
       "      <td>0</td>\n",
       "      <td>Transient</td>\n",
       "      <td>150.0</td>\n",
       "      <td>1</td>\n",
       "      <td>1</td>\n",
       "      <td>Check-Out</td>\n",
       "      <td>0</td>\n",
       "      <td>27</td>\n",
       "    </tr>\n",
       "    <tr>\n",
       "      <th>2</th>\n",
       "      <td>Villa</td>\n",
       "      <td>2017</td>\n",
       "      <td>April</td>\n",
       "      <td>23-04-2017</td>\n",
       "      <td>16</td>\n",
       "      <td>21</td>\n",
       "      <td>1</td>\n",
       "      <td>1</td>\n",
       "      <td>Bed &amp; Breakfast</td>\n",
       "      <td>No Deposit</td>\n",
       "      <td>...</td>\n",
       "      <td>A</td>\n",
       "      <td>0</td>\n",
       "      <td>0</td>\n",
       "      <td>Transient-Party</td>\n",
       "      <td>44.0</td>\n",
       "      <td>0</td>\n",
       "      <td>1</td>\n",
       "      <td>Check-Out</td>\n",
       "      <td>0</td>\n",
       "      <td>180</td>\n",
       "    </tr>\n",
       "    <tr>\n",
       "      <th>3</th>\n",
       "      <td>Motel</td>\n",
       "      <td>2016</td>\n",
       "      <td>June</td>\n",
       "      <td>29-06-2016</td>\n",
       "      <td>27</td>\n",
       "      <td>27</td>\n",
       "      <td>2</td>\n",
       "      <td>0</td>\n",
       "      <td>Bed &amp; Breakfast</td>\n",
       "      <td>No Deposit</td>\n",
       "      <td>...</td>\n",
       "      <td>D</td>\n",
       "      <td>0</td>\n",
       "      <td>0</td>\n",
       "      <td>Transient</td>\n",
       "      <td>151.0</td>\n",
       "      <td>0</td>\n",
       "      <td>4</td>\n",
       "      <td>Check-Out</td>\n",
       "      <td>0</td>\n",
       "      <td>59</td>\n",
       "    </tr>\n",
       "    <tr>\n",
       "      <th>4</th>\n",
       "      <td>Motel</td>\n",
       "      <td>2016</td>\n",
       "      <td>August</td>\n",
       "      <td>22-08-2016</td>\n",
       "      <td>34</td>\n",
       "      <td>20</td>\n",
       "      <td>0</td>\n",
       "      <td>2</td>\n",
       "      <td>Breakfast &amp; Dinner</td>\n",
       "      <td>No Deposit</td>\n",
       "      <td>...</td>\n",
       "      <td>A</td>\n",
       "      <td>0</td>\n",
       "      <td>0</td>\n",
       "      <td>Transient-Party</td>\n",
       "      <td>115.0</td>\n",
       "      <td>0</td>\n",
       "      <td>1</td>\n",
       "      <td>Check-Out</td>\n",
       "      <td>0</td>\n",
       "      <td>313</td>\n",
       "    </tr>\n",
       "  </tbody>\n",
       "</table>\n",
       "<p>5 rows × 29 columns</p>\n",
       "</div>"
      ],
      "text/plain": [
       "  Type of Hotel  Year   Month Reservation Date  Arrival week  Arrival Date  \\\n",
       "0         Motel  2015    July       03-08-2015            31            28   \n",
       "1         Villa  2016  August       30-08-2016            35            25   \n",
       "2         Villa  2017   April       23-04-2017            16            21   \n",
       "3         Motel  2016    June       29-06-2016            27            27   \n",
       "4         Motel  2016  August       22-08-2016            34            20   \n",
       "\n",
       "   Weekend Stays  Weekday Stays                Meal Booking Payment  ...  \\\n",
       "0              2              3     Bed & Breakfast      No Deposit  ...   \n",
       "1              2              3     Bed & Breakfast      No Deposit  ...   \n",
       "2              1              1     Bed & Breakfast      No Deposit  ...   \n",
       "3              2              0     Bed & Breakfast      No Deposit  ...   \n",
       "4              0              2  Breakfast & Dinner      No Deposit  ...   \n",
       "\n",
       "   Assigned Room  Booking Changes  Waiting List         Customer  \\\n",
       "0              A                0             0         Contract   \n",
       "1              A                1             0        Transient   \n",
       "2              A                0             0  Transient-Party   \n",
       "3              D                0             0        Transient   \n",
       "4              A                0             0  Transient-Party   \n",
       "\n",
       "  Per Day Charges  Parking at premises  Physical Challenged  \\\n",
       "0           132.0                    0                    2   \n",
       "1           150.0                    1                    1   \n",
       "2            44.0                    0                    1   \n",
       "3           151.0                    0                    4   \n",
       "4           115.0                    0                    1   \n",
       "\n",
       "   Reservation Status Cancellation Booking Done  \n",
       "0           Check-Out            0           44  \n",
       "1           Check-Out            0           27  \n",
       "2           Check-Out            0          180  \n",
       "3           Check-Out            0           59  \n",
       "4           Check-Out            0          313  \n",
       "\n",
       "[5 rows x 29 columns]"
      ]
     },
     "execution_count": 54,
     "metadata": {},
     "output_type": "execute_result"
    }
   ],
   "source": [
    "Hotel_df.head()"
   ]
  },
  {
   "cell_type": "code",
   "execution_count": 4,
   "id": "46847b56",
   "metadata": {},
   "outputs": [
    {
     "name": "stdout",
     "output_type": "stream",
     "text": [
      "<class 'pandas.core.frame.DataFrame'>\n",
      "RangeIndex: 90000 entries, 0 to 89999\n",
      "Data columns (total 29 columns):\n",
      " #   Column               Non-Null Count  Dtype  \n",
      "---  ------               --------------  -----  \n",
      " 0   Type of Hotel        90000 non-null  object \n",
      " 1   Year                 90000 non-null  int64  \n",
      " 2   Month                90000 non-null  object \n",
      " 3   Reservation Date     90000 non-null  object \n",
      " 4   Arrival week         90000 non-null  int64  \n",
      " 5   Arrival Date         90000 non-null  int64  \n",
      " 6   Weekend Stays        90000 non-null  int64  \n",
      " 7   Weekday Stays        90000 non-null  int64  \n",
      " 8   Meal                 90000 non-null  object \n",
      " 9   Booking Payment      90000 non-null  object \n",
      " 10  Adults               90000 non-null  int64  \n",
      " 11  Children             89998 non-null  float64\n",
      " 12  Kids                 90000 non-null  int64  \n",
      " 13  Country              89629 non-null  object \n",
      " 14  Booking Type         90000 non-null  object \n",
      " 15  Repeated Guest       90000 non-null  int64  \n",
      " 16  Prev Cancel          90000 non-null  int64  \n",
      " 17  History              90000 non-null  int64  \n",
      " 18  Reserved Room        90000 non-null  object \n",
      " 19  Assigned Room        90000 non-null  object \n",
      " 20  Booking Changes      90000 non-null  int64  \n",
      " 21  Waiting List         90000 non-null  int64  \n",
      " 22  Customer             90000 non-null  object \n",
      " 23  Per Day Charges      90000 non-null  float64\n",
      " 24  Parking at premises  90000 non-null  int64  \n",
      " 25  Physical Challenged  90000 non-null  int64  \n",
      " 26  Reservation Status   90000 non-null  object \n",
      " 27  Cancellation         90000 non-null  int64  \n",
      " 28  Booking Done         90000 non-null  int64  \n",
      "dtypes: float64(2), int64(16), object(11)\n",
      "memory usage: 19.9+ MB\n"
     ]
    }
   ],
   "source": [
    "Hotel_df.info()"
   ]
  },
  {
   "cell_type": "code",
   "execution_count": 55,
   "id": "18a44b11",
   "metadata": {},
   "outputs": [
    {
     "data": {
      "text/html": [
       "<div>\n",
       "<style scoped>\n",
       "    .dataframe tbody tr th:only-of-type {\n",
       "        vertical-align: middle;\n",
       "    }\n",
       "\n",
       "    .dataframe tbody tr th {\n",
       "        vertical-align: top;\n",
       "    }\n",
       "\n",
       "    .dataframe thead th {\n",
       "        text-align: right;\n",
       "    }\n",
       "</style>\n",
       "<table border=\"1\" class=\"dataframe\">\n",
       "  <thead>\n",
       "    <tr style=\"text-align: right;\">\n",
       "      <th></th>\n",
       "      <th>Year</th>\n",
       "      <th>Arrival week</th>\n",
       "      <th>Arrival Date</th>\n",
       "      <th>Weekend Stays</th>\n",
       "      <th>Weekday Stays</th>\n",
       "      <th>Adults</th>\n",
       "      <th>Children</th>\n",
       "      <th>Kids</th>\n",
       "      <th>Repeated Guest</th>\n",
       "      <th>Prev Cancel</th>\n",
       "      <th>History</th>\n",
       "      <th>Booking Changes</th>\n",
       "      <th>Waiting List</th>\n",
       "      <th>Per Day Charges</th>\n",
       "      <th>Parking at premises</th>\n",
       "      <th>Physical Challenged</th>\n",
       "      <th>Cancellation</th>\n",
       "      <th>Booking Done</th>\n",
       "    </tr>\n",
       "  </thead>\n",
       "  <tbody>\n",
       "    <tr>\n",
       "      <th>count</th>\n",
       "      <td>90000.000000</td>\n",
       "      <td>90000.000000</td>\n",
       "      <td>90000.000000</td>\n",
       "      <td>90000.000000</td>\n",
       "      <td>90000.000000</td>\n",
       "      <td>90000.000000</td>\n",
       "      <td>89998.000000</td>\n",
       "      <td>90000.000000</td>\n",
       "      <td>90000.000000</td>\n",
       "      <td>90000.000000</td>\n",
       "      <td>90000.000000</td>\n",
       "      <td>90000.000000</td>\n",
       "      <td>90000.000000</td>\n",
       "      <td>90000.000000</td>\n",
       "      <td>90000.000000</td>\n",
       "      <td>90000.000000</td>\n",
       "      <td>90000.000000</td>\n",
       "      <td>90000.000000</td>\n",
       "    </tr>\n",
       "    <tr>\n",
       "      <th>mean</th>\n",
       "      <td>2016.168711</td>\n",
       "      <td>27.122456</td>\n",
       "      <td>16.408356</td>\n",
       "      <td>0.908433</td>\n",
       "      <td>2.526967</td>\n",
       "      <td>1.857967</td>\n",
       "      <td>0.104513</td>\n",
       "      <td>0.009667</td>\n",
       "      <td>0.031300</td>\n",
       "      <td>0.058300</td>\n",
       "      <td>0.138289</td>\n",
       "      <td>0.228178</td>\n",
       "      <td>1.306944</td>\n",
       "      <td>101.745815</td>\n",
       "      <td>0.063956</td>\n",
       "      <td>0.623367</td>\n",
       "      <td>0.373722</td>\n",
       "      <td>107.271256</td>\n",
       "    </tr>\n",
       "    <tr>\n",
       "      <th>std</th>\n",
       "      <td>0.708918</td>\n",
       "      <td>13.589391</td>\n",
       "      <td>9.083017</td>\n",
       "      <td>1.002316</td>\n",
       "      <td>1.851936</td>\n",
       "      <td>0.525628</td>\n",
       "      <td>0.399714</td>\n",
       "      <td>0.099309</td>\n",
       "      <td>0.174128</td>\n",
       "      <td>0.430933</td>\n",
       "      <td>1.456766</td>\n",
       "      <td>0.658184</td>\n",
       "      <td>13.365843</td>\n",
       "      <td>47.853487</td>\n",
       "      <td>0.245265</td>\n",
       "      <td>0.817632</td>\n",
       "      <td>0.483794</td>\n",
       "      <td>111.192091</td>\n",
       "    </tr>\n",
       "    <tr>\n",
       "      <th>min</th>\n",
       "      <td>2015.000000</td>\n",
       "      <td>1.000000</td>\n",
       "      <td>1.000000</td>\n",
       "      <td>0.000000</td>\n",
       "      <td>0.000000</td>\n",
       "      <td>0.000000</td>\n",
       "      <td>0.000000</td>\n",
       "      <td>0.000000</td>\n",
       "      <td>0.000000</td>\n",
       "      <td>0.000000</td>\n",
       "      <td>0.000000</td>\n",
       "      <td>0.000000</td>\n",
       "      <td>0.000000</td>\n",
       "      <td>0.000000</td>\n",
       "      <td>0.000000</td>\n",
       "      <td>0.000000</td>\n",
       "      <td>0.000000</td>\n",
       "      <td>0.000000</td>\n",
       "    </tr>\n",
       "    <tr>\n",
       "      <th>25%</th>\n",
       "      <td>2016.000000</td>\n",
       "      <td>16.000000</td>\n",
       "      <td>8.000000</td>\n",
       "      <td>0.000000</td>\n",
       "      <td>1.000000</td>\n",
       "      <td>2.000000</td>\n",
       "      <td>0.000000</td>\n",
       "      <td>0.000000</td>\n",
       "      <td>0.000000</td>\n",
       "      <td>0.000000</td>\n",
       "      <td>0.000000</td>\n",
       "      <td>0.000000</td>\n",
       "      <td>0.000000</td>\n",
       "      <td>68.000000</td>\n",
       "      <td>0.000000</td>\n",
       "      <td>0.000000</td>\n",
       "      <td>0.000000</td>\n",
       "      <td>19.000000</td>\n",
       "    </tr>\n",
       "    <tr>\n",
       "      <th>50%</th>\n",
       "      <td>2016.000000</td>\n",
       "      <td>27.000000</td>\n",
       "      <td>17.000000</td>\n",
       "      <td>1.000000</td>\n",
       "      <td>2.000000</td>\n",
       "      <td>2.000000</td>\n",
       "      <td>0.000000</td>\n",
       "      <td>0.000000</td>\n",
       "      <td>0.000000</td>\n",
       "      <td>0.000000</td>\n",
       "      <td>0.000000</td>\n",
       "      <td>0.000000</td>\n",
       "      <td>0.000000</td>\n",
       "      <td>94.000000</td>\n",
       "      <td>0.000000</td>\n",
       "      <td>0.000000</td>\n",
       "      <td>0.000000</td>\n",
       "      <td>71.000000</td>\n",
       "    </tr>\n",
       "    <tr>\n",
       "      <th>75%</th>\n",
       "      <td>2017.000000</td>\n",
       "      <td>38.000000</td>\n",
       "      <td>25.000000</td>\n",
       "      <td>2.000000</td>\n",
       "      <td>3.000000</td>\n",
       "      <td>2.000000</td>\n",
       "      <td>0.000000</td>\n",
       "      <td>0.000000</td>\n",
       "      <td>0.000000</td>\n",
       "      <td>0.000000</td>\n",
       "      <td>0.000000</td>\n",
       "      <td>0.000000</td>\n",
       "      <td>0.000000</td>\n",
       "      <td>126.000000</td>\n",
       "      <td>0.000000</td>\n",
       "      <td>1.000000</td>\n",
       "      <td>1.000000</td>\n",
       "      <td>163.000000</td>\n",
       "    </tr>\n",
       "    <tr>\n",
       "      <th>max</th>\n",
       "      <td>2017.000000</td>\n",
       "      <td>53.000000</td>\n",
       "      <td>31.000000</td>\n",
       "      <td>14.000000</td>\n",
       "      <td>35.000000</td>\n",
       "      <td>26.000000</td>\n",
       "      <td>3.000000</td>\n",
       "      <td>2.000000</td>\n",
       "      <td>1.000000</td>\n",
       "      <td>26.000000</td>\n",
       "      <td>66.000000</td>\n",
       "      <td>16.000000</td>\n",
       "      <td>391.000000</td>\n",
       "      <td>437.000000</td>\n",
       "      <td>2.000000</td>\n",
       "      <td>5.000000</td>\n",
       "      <td>1.000000</td>\n",
       "      <td>629.000000</td>\n",
       "    </tr>\n",
       "  </tbody>\n",
       "</table>\n",
       "</div>"
      ],
      "text/plain": [
       "               Year  Arrival week  Arrival Date  Weekend Stays  Weekday Stays  \\\n",
       "count  90000.000000  90000.000000  90000.000000   90000.000000   90000.000000   \n",
       "mean    2016.168711     27.122456     16.408356       0.908433       2.526967   \n",
       "std        0.708918     13.589391      9.083017       1.002316       1.851936   \n",
       "min     2015.000000      1.000000      1.000000       0.000000       0.000000   \n",
       "25%     2016.000000     16.000000      8.000000       0.000000       1.000000   \n",
       "50%     2016.000000     27.000000     17.000000       1.000000       2.000000   \n",
       "75%     2017.000000     38.000000     25.000000       2.000000       3.000000   \n",
       "max     2017.000000     53.000000     31.000000      14.000000      35.000000   \n",
       "\n",
       "             Adults      Children          Kids  Repeated Guest   Prev Cancel  \\\n",
       "count  90000.000000  89998.000000  90000.000000    90000.000000  90000.000000   \n",
       "mean       1.857967      0.104513      0.009667        0.031300      0.058300   \n",
       "std        0.525628      0.399714      0.099309        0.174128      0.430933   \n",
       "min        0.000000      0.000000      0.000000        0.000000      0.000000   \n",
       "25%        2.000000      0.000000      0.000000        0.000000      0.000000   \n",
       "50%        2.000000      0.000000      0.000000        0.000000      0.000000   \n",
       "75%        2.000000      0.000000      0.000000        0.000000      0.000000   \n",
       "max       26.000000      3.000000      2.000000        1.000000     26.000000   \n",
       "\n",
       "            History  Booking Changes  Waiting List  Per Day Charges  \\\n",
       "count  90000.000000     90000.000000  90000.000000     90000.000000   \n",
       "mean       0.138289         0.228178      1.306944       101.745815   \n",
       "std        1.456766         0.658184     13.365843        47.853487   \n",
       "min        0.000000         0.000000      0.000000         0.000000   \n",
       "25%        0.000000         0.000000      0.000000        68.000000   \n",
       "50%        0.000000         0.000000      0.000000        94.000000   \n",
       "75%        0.000000         0.000000      0.000000       126.000000   \n",
       "max       66.000000        16.000000    391.000000       437.000000   \n",
       "\n",
       "       Parking at premises  Physical Challenged  Cancellation  Booking Done  \n",
       "count         90000.000000         90000.000000  90000.000000  90000.000000  \n",
       "mean              0.063956             0.623367      0.373722    107.271256  \n",
       "std               0.245265             0.817632      0.483794    111.192091  \n",
       "min               0.000000             0.000000      0.000000      0.000000  \n",
       "25%               0.000000             0.000000      0.000000     19.000000  \n",
       "50%               0.000000             0.000000      0.000000     71.000000  \n",
       "75%               0.000000             1.000000      1.000000    163.000000  \n",
       "max               2.000000             5.000000      1.000000    629.000000  "
      ]
     },
     "execution_count": 55,
     "metadata": {},
     "output_type": "execute_result"
    }
   ],
   "source": [
    "Hotel_df.describe()"
   ]
  },
  {
   "cell_type": "code",
   "execution_count": 56,
   "id": "21af4435",
   "metadata": {},
   "outputs": [
    {
     "data": {
      "text/plain": [
       "array(['Motel', 'Villa'], dtype=object)"
      ]
     },
     "execution_count": 56,
     "metadata": {},
     "output_type": "execute_result"
    }
   ],
   "source": [
    "Hotel_df[\"Type of Hotel\"].unique()"
   ]
  },
  {
   "cell_type": "code",
   "execution_count": 57,
   "id": "ae6b9aa2",
   "metadata": {},
   "outputs": [
    {
     "data": {
      "text/plain": [
       "array([2015, 2016, 2017], dtype=int64)"
      ]
     },
     "execution_count": 57,
     "metadata": {},
     "output_type": "execute_result"
    }
   ],
   "source": [
    "Hotel_df[\"Year\"].unique()"
   ]
  },
  {
   "cell_type": "code",
   "execution_count": 58,
   "id": "7d496997",
   "metadata": {},
   "outputs": [
    {
     "data": {
      "text/plain": [
       "array(['July', 'August', 'April', 'June', 'February', 'May', 'September',\n",
       "       'December', 'March', 'January', 'November', 'October'],\n",
       "      dtype=object)"
      ]
     },
     "execution_count": 58,
     "metadata": {},
     "output_type": "execute_result"
    }
   ],
   "source": [
    "Hotel_df[\"Month\"].unique()"
   ]
  },
  {
   "cell_type": "code",
   "execution_count": 59,
   "id": "114cd2a2",
   "metadata": {},
   "outputs": [
    {
     "data": {
      "text/plain": [
       "array(['Bed & Breakfast', 'Breakfast & Dinner', 'Room Only',\n",
       "       'Breakfast, Lunch & Dinner', 'All Inclusive'], dtype=object)"
      ]
     },
     "execution_count": 59,
     "metadata": {},
     "output_type": "execute_result"
    }
   ],
   "source": [
    "Hotel_df[\"Meal\"].unique()"
   ]
  },
  {
   "cell_type": "code",
   "execution_count": 60,
   "id": "bebb799b",
   "metadata": {},
   "outputs": [
    {
     "data": {
      "text/plain": [
       "array(['No Deposit', 'Non Refund', 'Refundable'], dtype=object)"
      ]
     },
     "execution_count": 60,
     "metadata": {},
     "output_type": "execute_result"
    }
   ],
   "source": [
    "Hotel_df[\"Booking Payment\"].unique()"
   ]
  },
  {
   "cell_type": "code",
   "execution_count": 61,
   "id": "01328c1e",
   "metadata": {},
   "outputs": [
    {
     "data": {
      "text/plain": [
       "array([ 0.,  1.,  2.,  3., nan])"
      ]
     },
     "execution_count": 61,
     "metadata": {},
     "output_type": "execute_result"
    }
   ],
   "source": [
    "Hotel_df[\"Children\"].unique()"
   ]
  },
  {
   "cell_type": "code",
   "execution_count": 62,
   "id": "4830c86b",
   "metadata": {},
   "outputs": [
    {
     "data": {
      "text/plain": [
       "array(['PRT', 'ESP', 'FRA', 'AUT', 'DEU', 'GBR', 'BRA', 'NLD', 'CN',\n",
       "       'ITA', 'IRL', 'RUS', 'POL', 'USA', 'LBN', 'UKR', 'KOR', 'BEL',\n",
       "       'DNK', 'CHE', nan, 'ISR', 'MYS', 'NOR', 'GRC', 'AUS', 'SWE', 'TUR',\n",
       "       'TUN', 'AGO', 'NZL', 'FIN', 'HRV', 'HUN', 'EST', 'LUX', 'TWN',\n",
       "       'BGD', 'PHL', 'CHL', 'CMR', 'MDV', 'CHN', 'JPN', 'ZAF', 'IRN',\n",
       "       'HKG', 'ROU', 'EGY', 'DZA', 'CZE', 'SVK', 'IND', 'LVA', 'NGA',\n",
       "       'ARE', 'IDN', 'SGP', 'ARG', 'LTU', 'IRQ', 'MEX', 'VEN', 'JOR',\n",
       "       'MAR', 'AND', 'SVN', 'SAU', 'PER', 'JEY', 'CYP', 'KAZ', 'PRI',\n",
       "       'BGR', 'MOZ', 'KWT', 'QAT', 'SRB', 'CRI', 'BLR', 'PAK', 'ISL',\n",
       "       'MAC', 'COL', 'BOL', 'ALB', 'ECU', 'THA', 'GEO', 'MUS', 'GIB',\n",
       "       'URY', 'DOM', 'LBY', 'TJK', 'SEN', 'CPV', 'GNB', 'LKA', 'BIH',\n",
       "       'MLT', 'MKD', 'PAN', 'CUB', 'AZE', 'VNM', 'OMN', 'ARM'],\n",
       "      dtype=object)"
      ]
     },
     "execution_count": 62,
     "metadata": {},
     "output_type": "execute_result"
    }
   ],
   "source": [
    "Hotel_df[\"Country\"].unique()"
   ]
  },
  {
   "cell_type": "code",
   "execution_count": 63,
   "id": "ce720ab2",
   "metadata": {},
   "outputs": [
    {
     "data": {
      "text/plain": [
       "array(['Online TA', 'Offline TA/TO', 'Website', 'Corporate', 'Groups',\n",
       "       'Complementary', 'Aviation'], dtype=object)"
      ]
     },
     "execution_count": 63,
     "metadata": {},
     "output_type": "execute_result"
    }
   ],
   "source": [
    "Hotel_df[\"Booking Type\"].unique()"
   ]
  },
  {
   "cell_type": "code",
   "execution_count": 64,
   "id": "a1a2a5ef",
   "metadata": {},
   "outputs": [
    {
     "data": {
      "text/plain": [
       "array(['Contract', 'Transient', 'Transient-Party', 'Group'], dtype=object)"
      ]
     },
     "execution_count": 64,
     "metadata": {},
     "output_type": "execute_result"
    }
   ],
   "source": [
    "Hotel_df[\"Customer\"].unique()"
   ]
  },
  {
   "cell_type": "code",
   "execution_count": 65,
   "id": "30e28c89",
   "metadata": {},
   "outputs": [
    {
     "data": {
      "text/plain": [
       "array([0, 1], dtype=int64)"
      ]
     },
     "execution_count": 65,
     "metadata": {},
     "output_type": "execute_result"
    }
   ],
   "source": [
    "Hotel_df[\"Cancellation\"].unique()"
   ]
  },
  {
   "cell_type": "markdown",
   "id": "a3a4c6fe",
   "metadata": {},
   "source": [
    "**Creating a copy so as not to disturb the original dataset.**"
   ]
  },
  {
   "cell_type": "code",
   "execution_count": 66,
   "id": "6a4c414f",
   "metadata": {},
   "outputs": [],
   "source": [
    "df1 = Hotel_df.copy()"
   ]
  },
  {
   "cell_type": "markdown",
   "id": "cd2f0c4e",
   "metadata": {},
   "source": [
    "**CLEANING THE DATA**<br> \n",
    "\n",
    "**Cleaning data is crucial step before EDA as it will remove the ambigous data that can affect the outcome of EDA.**<br>\n",
    "\n",
    "**While cleaning data we will perform following steps:**\n",
    "\n",
    "1) Handling missing values.<br> \n",
    "2) Remove duplicate rows.<br>\n",
    "3) Convert columns to appropriate datatypes.<br>\n",
    "4) Adding important columns."
   ]
  },
  {
   "cell_type": "markdown",
   "id": "a66ea0d8",
   "metadata": {},
   "source": [
    "**(1) Handling missing values.**"
   ]
  },
  {
   "cell_type": "code",
   "execution_count": 67,
   "id": "2c9ade56",
   "metadata": {},
   "outputs": [
    {
     "data": {
      "text/plain": [
       "Country                371\n",
       "Children                 2\n",
       "Type of Hotel            0\n",
       "Prev Cancel              0\n",
       "Cancellation             0\n",
       "Reservation Status       0\n",
       "Physical Challenged      0\n",
       "Parking at premises      0\n",
       "Per Day Charges          0\n",
       "Customer                 0\n",
       "Waiting List             0\n",
       "Booking Changes          0\n",
       "Assigned Room            0\n",
       "Reserved Room            0\n",
       "History                  0\n",
       "Booking Type             0\n",
       "Repeated Guest           0\n",
       "Year                     0\n",
       "Kids                     0\n",
       "Adults                   0\n",
       "Booking Payment          0\n",
       "Meal                     0\n",
       "Weekday Stays            0\n",
       "Weekend Stays            0\n",
       "Arrival Date             0\n",
       "Arrival week             0\n",
       "Reservation Date         0\n",
       "Month                    0\n",
       "Booking Done             0\n",
       "dtype: int64"
      ]
     },
     "execution_count": 67,
     "metadata": {},
     "output_type": "execute_result"
    }
   ],
   "source": [
    "df1.isnull().sum().sort_values(ascending = False)"
   ]
  },
  {
   "cell_type": "code",
   "execution_count": 68,
   "id": "8c52af52",
   "metadata": {},
   "outputs": [],
   "source": [
    "df1[\"Country\"].fillna(\"XYZ\", inplace=True)\n",
    "df1[\"Children\"].fillna(0 , inplace=True)\n"
   ]
  },
  {
   "cell_type": "code",
   "execution_count": 19,
   "id": "408002d7",
   "metadata": {},
   "outputs": [
    {
     "data": {
      "text/plain": [
       "Type of Hotel          0\n",
       "Repeated Guest         0\n",
       "Cancellation           0\n",
       "Reservation Status     0\n",
       "Physical Challenged    0\n",
       "Parking at premises    0\n",
       "Per Day Charges        0\n",
       "Customer               0\n",
       "Waiting List           0\n",
       "Booking Changes        0\n",
       "Assigned Room          0\n",
       "Reserved Room          0\n",
       "History                0\n",
       "Prev Cancel            0\n",
       "Booking Type           0\n",
       "Year                   0\n",
       "Country                0\n",
       "Kids                   0\n",
       "Children               0\n",
       "Adults                 0\n",
       "Booking Payment        0\n",
       "Meal                   0\n",
       "Weekday Stays          0\n",
       "Weekend Stays          0\n",
       "Arrival Date           0\n",
       "Arrival week           0\n",
       "Reservation Date       0\n",
       "Month                  0\n",
       "Booking Done           0\n",
       "dtype: int64"
      ]
     },
     "execution_count": 19,
     "metadata": {},
     "output_type": "execute_result"
    }
   ],
   "source": [
    "# Checking if all null values are removed\n",
    "\n",
    "df1.isnull().sum().sort_values(ascending = False)"
   ]
  },
  {
   "cell_type": "markdown",
   "id": "e8f3ba39",
   "metadata": {},
   "source": [
    "**(2) Removing the duplicate Rows if any.**"
   ]
  },
  {
   "cell_type": "code",
   "execution_count": 69,
   "id": "ee06dd9e",
   "metadata": {},
   "outputs": [
    {
     "data": {
      "text/plain": [
       "(99, 29)"
      ]
     },
     "execution_count": 69,
     "metadata": {},
     "output_type": "execute_result"
    }
   ],
   "source": [
    "df1[df1.duplicated()].shape"
   ]
  },
  {
   "cell_type": "code",
   "execution_count": 70,
   "id": "e9898f71",
   "metadata": {},
   "outputs": [],
   "source": [
    "# Dropping duplicate values\n",
    "\n",
    "df1.drop_duplicates(inplace = True)"
   ]
  },
  {
   "cell_type": "code",
   "execution_count": 71,
   "id": "3e19f7b1",
   "metadata": {},
   "outputs": [
    {
     "data": {
      "text/plain": [
       "(89901, 29)"
      ]
     },
     "execution_count": 71,
     "metadata": {},
     "output_type": "execute_result"
    }
   ],
   "source": [
    "df1.shape"
   ]
  },
  {
   "cell_type": "markdown",
   "id": "fb5344ae",
   "metadata": {},
   "source": [
    "**(3) Convert columns to appropriate datatypes.**"
   ]
  },
  {
   "cell_type": "code",
   "execution_count": 72,
   "id": "f7567e8d",
   "metadata": {},
   "outputs": [],
   "source": [
    "# Converting datatype of columns Children from float to int.\n",
    "\n",
    "df1[\"Children\"] = df1[\"Children\"].astype('int64')"
   ]
  },
  {
   "cell_type": "code",
   "execution_count": 24,
   "id": "814180bf",
   "metadata": {},
   "outputs": [
    {
     "name": "stdout",
     "output_type": "stream",
     "text": [
      "<class 'pandas.core.frame.DataFrame'>\n",
      "Int64Index: 89901 entries, 0 to 89999\n",
      "Data columns (total 29 columns):\n",
      " #   Column               Non-Null Count  Dtype  \n",
      "---  ------               --------------  -----  \n",
      " 0   Type of Hotel        89901 non-null  object \n",
      " 1   Year                 89901 non-null  int64  \n",
      " 2   Month                89901 non-null  object \n",
      " 3   Reservation Date     89901 non-null  object \n",
      " 4   Arrival week         89901 non-null  int64  \n",
      " 5   Arrival Date         89901 non-null  int64  \n",
      " 6   Weekend Stays        89901 non-null  int64  \n",
      " 7   Weekday Stays        89901 non-null  int64  \n",
      " 8   Meal                 89901 non-null  object \n",
      " 9   Booking Payment      89901 non-null  object \n",
      " 10  Adults               89901 non-null  int64  \n",
      " 11  Children             89901 non-null  int64  \n",
      " 12  Kids                 89901 non-null  int64  \n",
      " 13  Country              89901 non-null  object \n",
      " 14  Booking Type         89901 non-null  object \n",
      " 15  Repeated Guest       89901 non-null  int64  \n",
      " 16  Prev Cancel          89901 non-null  int64  \n",
      " 17  History              89901 non-null  int64  \n",
      " 18  Reserved Room        89901 non-null  object \n",
      " 19  Assigned Room        89901 non-null  object \n",
      " 20  Booking Changes      89901 non-null  int64  \n",
      " 21  Waiting List         89901 non-null  int64  \n",
      " 22  Customer             89901 non-null  object \n",
      " 23  Per Day Charges      89901 non-null  float64\n",
      " 24  Parking at premises  89901 non-null  int64  \n",
      " 25  Physical Challenged  89901 non-null  int64  \n",
      " 26  Reservation Status   89901 non-null  object \n",
      " 27  Cancellation         89901 non-null  int64  \n",
      " 28  Booking Done         89901 non-null  int64  \n",
      "dtypes: float64(1), int64(17), object(11)\n",
      "memory usage: 20.6+ MB\n"
     ]
    }
   ],
   "source": [
    "df1.info()"
   ]
  },
  {
   "cell_type": "markdown",
   "id": "62863e49",
   "metadata": {},
   "source": [
    "**(4) Adding important columns.**"
   ]
  },
  {
   "cell_type": "code",
   "execution_count": 25,
   "id": "31c1338f",
   "metadata": {},
   "outputs": [],
   "source": [
    "# dropping kids column as they are not accounted into monetary aspects.\n",
    "\n",
    "df1[\"Total_Guests\"] = df1[\"Adults\"] + df1[\"Children\"]"
   ]
  },
  {
   "cell_type": "code",
   "execution_count": 26,
   "id": "581a85b4",
   "metadata": {},
   "outputs": [],
   "source": [
    "df1 = df1.drop([\"Adults\", \"Children\"], axis=1)"
   ]
  },
  {
   "cell_type": "code",
   "execution_count": 27,
   "id": "984a504e",
   "metadata": {},
   "outputs": [],
   "source": [
    "# removing rows which contain total guests as Zero.\n",
    "\n",
    "df1 = df1[df1.Total_Guests > 0] "
   ]
  },
  {
   "cell_type": "code",
   "execution_count": 28,
   "id": "e55ebc95",
   "metadata": {},
   "outputs": [],
   "source": [
    "# Adding total staying days in hotels\n",
    "\n",
    "df1[\"Total_stay\"] = df1[\"Weekend Stays\"] + df1[\"Weekday Stays\"]"
   ]
  },
  {
   "cell_type": "code",
   "execution_count": 29,
   "id": "317b00e6",
   "metadata": {},
   "outputs": [
    {
     "data": {
      "text/html": [
       "<div>\n",
       "<style scoped>\n",
       "    .dataframe tbody tr th:only-of-type {\n",
       "        vertical-align: middle;\n",
       "    }\n",
       "\n",
       "    .dataframe tbody tr th {\n",
       "        vertical-align: top;\n",
       "    }\n",
       "\n",
       "    .dataframe thead th {\n",
       "        text-align: right;\n",
       "    }\n",
       "</style>\n",
       "<table border=\"1\" class=\"dataframe\">\n",
       "  <thead>\n",
       "    <tr style=\"text-align: right;\">\n",
       "      <th></th>\n",
       "      <th>Type of Hotel</th>\n",
       "      <th>Year</th>\n",
       "      <th>Month</th>\n",
       "      <th>Reservation Date</th>\n",
       "      <th>Arrival week</th>\n",
       "      <th>Arrival Date</th>\n",
       "      <th>Weekend Stays</th>\n",
       "      <th>Weekday Stays</th>\n",
       "      <th>Meal</th>\n",
       "      <th>Booking Payment</th>\n",
       "      <th>...</th>\n",
       "      <th>Waiting List</th>\n",
       "      <th>Customer</th>\n",
       "      <th>Per Day Charges</th>\n",
       "      <th>Parking at premises</th>\n",
       "      <th>Physical Challenged</th>\n",
       "      <th>Reservation Status</th>\n",
       "      <th>Cancellation</th>\n",
       "      <th>Booking Done</th>\n",
       "      <th>Total_Guests</th>\n",
       "      <th>Total_stay</th>\n",
       "    </tr>\n",
       "  </thead>\n",
       "  <tbody>\n",
       "    <tr>\n",
       "      <th>0</th>\n",
       "      <td>Motel</td>\n",
       "      <td>2015</td>\n",
       "      <td>July</td>\n",
       "      <td>03-08-2015</td>\n",
       "      <td>31</td>\n",
       "      <td>28</td>\n",
       "      <td>2</td>\n",
       "      <td>3</td>\n",
       "      <td>Bed &amp; Breakfast</td>\n",
       "      <td>No Deposit</td>\n",
       "      <td>...</td>\n",
       "      <td>0</td>\n",
       "      <td>Contract</td>\n",
       "      <td>132.0</td>\n",
       "      <td>0</td>\n",
       "      <td>2</td>\n",
       "      <td>Check-Out</td>\n",
       "      <td>0</td>\n",
       "      <td>44</td>\n",
       "      <td>2</td>\n",
       "      <td>5</td>\n",
       "    </tr>\n",
       "    <tr>\n",
       "      <th>1</th>\n",
       "      <td>Villa</td>\n",
       "      <td>2016</td>\n",
       "      <td>August</td>\n",
       "      <td>30-08-2016</td>\n",
       "      <td>35</td>\n",
       "      <td>25</td>\n",
       "      <td>2</td>\n",
       "      <td>3</td>\n",
       "      <td>Bed &amp; Breakfast</td>\n",
       "      <td>No Deposit</td>\n",
       "      <td>...</td>\n",
       "      <td>0</td>\n",
       "      <td>Transient</td>\n",
       "      <td>150.0</td>\n",
       "      <td>1</td>\n",
       "      <td>1</td>\n",
       "      <td>Check-Out</td>\n",
       "      <td>0</td>\n",
       "      <td>27</td>\n",
       "      <td>2</td>\n",
       "      <td>5</td>\n",
       "    </tr>\n",
       "    <tr>\n",
       "      <th>2</th>\n",
       "      <td>Villa</td>\n",
       "      <td>2017</td>\n",
       "      <td>April</td>\n",
       "      <td>23-04-2017</td>\n",
       "      <td>16</td>\n",
       "      <td>21</td>\n",
       "      <td>1</td>\n",
       "      <td>1</td>\n",
       "      <td>Bed &amp; Breakfast</td>\n",
       "      <td>No Deposit</td>\n",
       "      <td>...</td>\n",
       "      <td>0</td>\n",
       "      <td>Transient-Party</td>\n",
       "      <td>44.0</td>\n",
       "      <td>0</td>\n",
       "      <td>1</td>\n",
       "      <td>Check-Out</td>\n",
       "      <td>0</td>\n",
       "      <td>180</td>\n",
       "      <td>1</td>\n",
       "      <td>2</td>\n",
       "    </tr>\n",
       "    <tr>\n",
       "      <th>3</th>\n",
       "      <td>Motel</td>\n",
       "      <td>2016</td>\n",
       "      <td>June</td>\n",
       "      <td>29-06-2016</td>\n",
       "      <td>27</td>\n",
       "      <td>27</td>\n",
       "      <td>2</td>\n",
       "      <td>0</td>\n",
       "      <td>Bed &amp; Breakfast</td>\n",
       "      <td>No Deposit</td>\n",
       "      <td>...</td>\n",
       "      <td>0</td>\n",
       "      <td>Transient</td>\n",
       "      <td>151.0</td>\n",
       "      <td>0</td>\n",
       "      <td>4</td>\n",
       "      <td>Check-Out</td>\n",
       "      <td>0</td>\n",
       "      <td>59</td>\n",
       "      <td>3</td>\n",
       "      <td>2</td>\n",
       "    </tr>\n",
       "    <tr>\n",
       "      <th>4</th>\n",
       "      <td>Motel</td>\n",
       "      <td>2016</td>\n",
       "      <td>August</td>\n",
       "      <td>22-08-2016</td>\n",
       "      <td>34</td>\n",
       "      <td>20</td>\n",
       "      <td>0</td>\n",
       "      <td>2</td>\n",
       "      <td>Breakfast &amp; Dinner</td>\n",
       "      <td>No Deposit</td>\n",
       "      <td>...</td>\n",
       "      <td>0</td>\n",
       "      <td>Transient-Party</td>\n",
       "      <td>115.0</td>\n",
       "      <td>0</td>\n",
       "      <td>1</td>\n",
       "      <td>Check-Out</td>\n",
       "      <td>0</td>\n",
       "      <td>313</td>\n",
       "      <td>2</td>\n",
       "      <td>2</td>\n",
       "    </tr>\n",
       "    <tr>\n",
       "      <th>5</th>\n",
       "      <td>Villa</td>\n",
       "      <td>2016</td>\n",
       "      <td>February</td>\n",
       "      <td>02-03-2016</td>\n",
       "      <td>10</td>\n",
       "      <td>29</td>\n",
       "      <td>2</td>\n",
       "      <td>1</td>\n",
       "      <td>Bed &amp; Breakfast</td>\n",
       "      <td>No Deposit</td>\n",
       "      <td>...</td>\n",
       "      <td>0</td>\n",
       "      <td>Transient</td>\n",
       "      <td>90.0</td>\n",
       "      <td>0</td>\n",
       "      <td>1</td>\n",
       "      <td>Check-Out</td>\n",
       "      <td>0</td>\n",
       "      <td>15</td>\n",
       "      <td>2</td>\n",
       "      <td>3</td>\n",
       "    </tr>\n",
       "    <tr>\n",
       "      <th>6</th>\n",
       "      <td>Motel</td>\n",
       "      <td>2017</td>\n",
       "      <td>May</td>\n",
       "      <td>12-01-2017</td>\n",
       "      <td>22</td>\n",
       "      <td>26</td>\n",
       "      <td>0</td>\n",
       "      <td>2</td>\n",
       "      <td>Bed &amp; Breakfast</td>\n",
       "      <td>No Deposit</td>\n",
       "      <td>...</td>\n",
       "      <td>0</td>\n",
       "      <td>Transient</td>\n",
       "      <td>108.0</td>\n",
       "      <td>0</td>\n",
       "      <td>0</td>\n",
       "      <td>Canceled</td>\n",
       "      <td>1</td>\n",
       "      <td>123</td>\n",
       "      <td>2</td>\n",
       "      <td>2</td>\n",
       "    </tr>\n",
       "    <tr>\n",
       "      <th>7</th>\n",
       "      <td>Motel</td>\n",
       "      <td>2016</td>\n",
       "      <td>September</td>\n",
       "      <td>29-01-2016</td>\n",
       "      <td>39</td>\n",
       "      <td>25</td>\n",
       "      <td>2</td>\n",
       "      <td>2</td>\n",
       "      <td>Bed &amp; Breakfast</td>\n",
       "      <td>No Deposit</td>\n",
       "      <td>...</td>\n",
       "      <td>0</td>\n",
       "      <td>Transient</td>\n",
       "      <td>123.0</td>\n",
       "      <td>0</td>\n",
       "      <td>0</td>\n",
       "      <td>Canceled</td>\n",
       "      <td>1</td>\n",
       "      <td>290</td>\n",
       "      <td>2</td>\n",
       "      <td>4</td>\n",
       "    </tr>\n",
       "    <tr>\n",
       "      <th>8</th>\n",
       "      <td>Villa</td>\n",
       "      <td>2015</td>\n",
       "      <td>July</td>\n",
       "      <td>04-06-2015</td>\n",
       "      <td>30</td>\n",
       "      <td>21</td>\n",
       "      <td>3</td>\n",
       "      <td>6</td>\n",
       "      <td>Bed &amp; Breakfast</td>\n",
       "      <td>No Deposit</td>\n",
       "      <td>...</td>\n",
       "      <td>0</td>\n",
       "      <td>Transient</td>\n",
       "      <td>124.0</td>\n",
       "      <td>0</td>\n",
       "      <td>0</td>\n",
       "      <td>Canceled</td>\n",
       "      <td>1</td>\n",
       "      <td>102</td>\n",
       "      <td>2</td>\n",
       "      <td>9</td>\n",
       "    </tr>\n",
       "    <tr>\n",
       "      <th>9</th>\n",
       "      <td>Villa</td>\n",
       "      <td>2017</td>\n",
       "      <td>June</td>\n",
       "      <td>24-04-2017</td>\n",
       "      <td>22</td>\n",
       "      <td>1</td>\n",
       "      <td>0</td>\n",
       "      <td>2</td>\n",
       "      <td>Bed &amp; Breakfast</td>\n",
       "      <td>No Deposit</td>\n",
       "      <td>...</td>\n",
       "      <td>0</td>\n",
       "      <td>Transient</td>\n",
       "      <td>105.0</td>\n",
       "      <td>0</td>\n",
       "      <td>0</td>\n",
       "      <td>Canceled</td>\n",
       "      <td>1</td>\n",
       "      <td>81</td>\n",
       "      <td>2</td>\n",
       "      <td>2</td>\n",
       "    </tr>\n",
       "  </tbody>\n",
       "</table>\n",
       "<p>10 rows × 29 columns</p>\n",
       "</div>"
      ],
      "text/plain": [
       "  Type of Hotel  Year      Month Reservation Date  Arrival week  Arrival Date  \\\n",
       "0         Motel  2015       July       03-08-2015            31            28   \n",
       "1         Villa  2016     August       30-08-2016            35            25   \n",
       "2         Villa  2017      April       23-04-2017            16            21   \n",
       "3         Motel  2016       June       29-06-2016            27            27   \n",
       "4         Motel  2016     August       22-08-2016            34            20   \n",
       "5         Villa  2016   February       02-03-2016            10            29   \n",
       "6         Motel  2017        May       12-01-2017            22            26   \n",
       "7         Motel  2016  September       29-01-2016            39            25   \n",
       "8         Villa  2015       July       04-06-2015            30            21   \n",
       "9         Villa  2017       June       24-04-2017            22             1   \n",
       "\n",
       "   Weekend Stays  Weekday Stays                Meal Booking Payment  ...  \\\n",
       "0              2              3     Bed & Breakfast      No Deposit  ...   \n",
       "1              2              3     Bed & Breakfast      No Deposit  ...   \n",
       "2              1              1     Bed & Breakfast      No Deposit  ...   \n",
       "3              2              0     Bed & Breakfast      No Deposit  ...   \n",
       "4              0              2  Breakfast & Dinner      No Deposit  ...   \n",
       "5              2              1     Bed & Breakfast      No Deposit  ...   \n",
       "6              0              2     Bed & Breakfast      No Deposit  ...   \n",
       "7              2              2     Bed & Breakfast      No Deposit  ...   \n",
       "8              3              6     Bed & Breakfast      No Deposit  ...   \n",
       "9              0              2     Bed & Breakfast      No Deposit  ...   \n",
       "\n",
       "   Waiting List         Customer Per Day Charges  Parking at premises  \\\n",
       "0             0         Contract           132.0                    0   \n",
       "1             0        Transient           150.0                    1   \n",
       "2             0  Transient-Party            44.0                    0   \n",
       "3             0        Transient           151.0                    0   \n",
       "4             0  Transient-Party           115.0                    0   \n",
       "5             0        Transient            90.0                    0   \n",
       "6             0        Transient           108.0                    0   \n",
       "7             0        Transient           123.0                    0   \n",
       "8             0        Transient           124.0                    0   \n",
       "9             0        Transient           105.0                    0   \n",
       "\n",
       "   Physical Challenged  Reservation Status Cancellation Booking Done  \\\n",
       "0                    2           Check-Out            0           44   \n",
       "1                    1           Check-Out            0           27   \n",
       "2                    1           Check-Out            0          180   \n",
       "3                    4           Check-Out            0           59   \n",
       "4                    1           Check-Out            0          313   \n",
       "5                    1           Check-Out            0           15   \n",
       "6                    0            Canceled            1          123   \n",
       "7                    0            Canceled            1          290   \n",
       "8                    0            Canceled            1          102   \n",
       "9                    0            Canceled            1           81   \n",
       "\n",
       "   Total_Guests  Total_stay  \n",
       "0             2           5  \n",
       "1             2           5  \n",
       "2             1           2  \n",
       "3             3           2  \n",
       "4             2           2  \n",
       "5             2           3  \n",
       "6             2           2  \n",
       "7             2           4  \n",
       "8             2           9  \n",
       "9             2           2  \n",
       "\n",
       "[10 rows x 29 columns]"
      ]
     },
     "execution_count": 29,
     "metadata": {},
     "output_type": "execute_result"
    }
   ],
   "source": [
    "df1.head(10)"
   ]
  },
  {
   "cell_type": "markdown",
   "id": "bef02666",
   "metadata": {},
   "source": [
    "**Performing the Exploratory Data Analysis (EDA).**"
   ]
  },
  {
   "cell_type": "markdown",
   "id": "cdbdde46",
   "metadata": {},
   "source": [
    "**1. Visualizing Hotel wise yearly bookings.**"
   ]
  },
  {
   "cell_type": "code",
   "execution_count": 30,
   "id": "f56fb114",
   "metadata": {},
   "outputs": [],
   "source": [
    "sns.set_style('darkgrid')"
   ]
  },
  {
   "cell_type": "code",
   "execution_count": 31,
   "id": "07386ec3",
   "metadata": {},
   "outputs": [
    {
     "data": {
      "image/png": "[encoded data removed]",
      "text/plain": [
       "<Figure size 720x576 with 1 Axes>"
      ]
     },
     "metadata": {},
     "output_type": "display_data"
    }
   ],
   "source": [
    "plt.figure(figsize = (10,8))\n",
    "\n",
    "sns.countplot(x= \"Year\", data= df1, hue= \"Type of Hotel\").set_title (\"Yearly Bookings\")\n",
    "\n",
    "plt.show()"
   ]
  },
  {
   "cell_type": "markdown",
   "id": "7af7b450",
   "metadata": {},
   "source": [
    "**Bookings across years is higher for Motel compared to villa and do not increase proportionately over the years.**"
   ]
  },
  {
   "cell_type": "markdown",
   "id": "ce18118b",
   "metadata": {},
   "source": [
    "**2. From where the most guests are coming?**"
   ]
  },
  {
   "cell_type": "code",
   "execution_count": 32,
   "id": "6cf4d4b9",
   "metadata": {},
   "outputs": [
    {
     "data": {
      "text/plain": [
       "PRT    36110\n",
       "GBR     9636\n",
       "FRA     7777\n",
       "ESP     6691\n",
       "DEU     5541\n",
       "       ...  \n",
       "AND        6\n",
       "MKD        5\n",
       "TJK        4\n",
       "CUB        3\n",
       "ARM        1\n",
       "Name: Country, Length: 108, dtype: int64"
      ]
     },
     "execution_count": 32,
     "metadata": {},
     "output_type": "execute_result"
    }
   ],
   "source": [
    "df1[\"Country\"].value_counts()"
   ]
  },
  {
   "cell_type": "code",
   "execution_count": 33,
   "id": "14727f15",
   "metadata": {},
   "outputs": [
    {
     "data": {
      "image/png": "[encoded data removed]",
      "text/plain": [
       "<Figure size 720x576 with 1 Axes>"
      ]
     },
     "metadata": {},
     "output_type": "display_data"
    }
   ],
   "source": [
    "plt.figure(figsize = (10,8))\n",
    "sns.barplot (x = (df1.Country.value_counts().head(10).index), y = (df1.Country.value_counts().head (10)))\n",
    "plt.title(\"Booking Counts Accross The Globe\")\n",
    "plt.show()\n",
    "\n"
   ]
  },
  {
   "cell_type": "markdown",
   "id": "0fcb2c56",
   "metadata": {},
   "source": [
    "**Most of guests are coming from PRT.**"
   ]
  },
  {
   "cell_type": "markdown",
   "id": "b842ec75",
   "metadata": {},
   "source": [
    "**3. Does length of stay affects the Average Daily Rate?**"
   ]
  },
  {
   "cell_type": "code",
   "execution_count": 34,
   "id": "d9499024",
   "metadata": {},
   "outputs": [
    {
     "data": {
      "image/png": "[encoded data removed]",
      "text/plain": [
       "<Figure size 864x432 with 1 Axes>"
      ]
     },
     "metadata": {},
     "output_type": "display_data"
    }
   ],
   "source": [
    "plt.figure(figsize = (12,6))\n",
    "\n",
    "sns.scatterplot(x = \"Total_stay\", y = \"Per Day Charges\", data = df1)\n",
    "\n",
    "plt.show()"
   ]
  },
  {
   "cell_type": "markdown",
   "id": "4a1c8467",
   "metadata": {},
   "source": [
    "**From the Scatter plot we can see that the length of Total_stay increases when the Per Day Charges(Average Daily Rate) decreases.We can see the clearly, when the charges are increasing so the length of Total_stay is decreasing. This means for longer stay, the better deal for customer can be finalised.**"
   ]
  },
  {
   "cell_type": "markdown",
   "id": "35b47be8",
   "metadata": {},
   "source": [
    "**4. Which meal type is most preffered meal of customers?**"
   ]
  },
  {
   "cell_type": "code",
   "execution_count": 35,
   "id": "4cf50cae",
   "metadata": {},
   "outputs": [
    {
     "data": {
      "image/png": "[encoded data removed]",
      "text/plain": [
       "<Figure size 720x576 with 1 Axes>"
      ]
     },
     "metadata": {},
     "output_type": "display_data"
    }
   ],
   "source": [
    "plt.figure(figsize=(10, 8))\n",
    "\n",
    "sns.countplot(x = df1[\"Meal\"])\n",
    "\n",
    "plt.show()"
   ]
  },
  {
   "cell_type": "markdown",
   "id": "c8907323",
   "metadata": {},
   "source": [
    "**As we can the that most preferred meal type is Bed and Breakfast.**"
   ]
  },
  {
   "cell_type": "markdown",
   "id": "7d66a83e",
   "metadata": {},
   "source": [
    "**5. What is percentage of bookings in each hotel?**"
   ]
  },
  {
   "cell_type": "code",
   "execution_count": 36,
   "id": "d100bd15",
   "metadata": {},
   "outputs": [
    {
     "data": {
      "image/png": "[encoded data removed]",
      "text/plain": [
       "<Figure size 720x576 with 1 Axes>"
      ]
     },
     "metadata": {},
     "output_type": "display_data"
    }
   ],
   "source": [
    "grouped_by_hotel = df1.groupby(\"Type of Hotel\")\n",
    "\n",
    "d1 = pd.DataFrame((grouped_by_hotel.size()/df1.shape[0])*100).reset_index().rename(columns = {0:\"Booking %\"})\n",
    "\n",
    "plt.figure(figsize=(10, 8))\n",
    "\n",
    "sns.barplot(x = d1[\"Type of Hotel\"], y = d1[\"Booking %\"] )\n",
    "\n",
    "plt.show()"
   ]
  },
  {
   "cell_type": "markdown",
   "id": "662027dc",
   "metadata": {},
   "source": [
    "**More than 60% bookings are for Motel hotel and arround 33% bookings are for Villa.**"
   ]
  },
  {
   "cell_type": "markdown",
   "id": "5500d328",
   "metadata": {},
   "source": [
    "**6. Which hotel seems to make more revenue?**"
   ]
  },
  {
   "cell_type": "code",
   "execution_count": 37,
   "id": "2ee6a264",
   "metadata": {},
   "outputs": [
    {
     "data": {
      "image/png": "[encoded data removed]",
      "text/plain": [
       "<Figure size 720x576 with 1 Axes>"
      ]
     },
     "metadata": {},
     "output_type": "display_data"
    }
   ],
   "source": [
    "d2 = grouped_by_hotel[\"Per Day Charges\"].agg(np.mean).reset_index().rename(columns = {\"Per Day Charges\":\"Avg_ADR\"})\n",
    "\n",
    "plt.figure(figsize = (10,8))\n",
    "\n",
    "sns.barplot(x = d2[\"Type of Hotel\"], y = d2[\"Avg_ADR\"])\n",
    "\n",
    "plt.show()"
   ]
  },
  {
   "cell_type": "markdown",
   "id": "34955b01",
   "metadata": {},
   "source": [
    "**Avg ADR (Average Daily Rate) of Villa is slightly lower than that of Motel. Hence, Motel seems to be making slightly more revenue.**"
   ]
  },
  {
   "cell_type": "markdown",
   "id": "a93d4f67",
   "metadata": {},
   "source": [
    "**7. Which hotel has higher lead time?**"
   ]
  },
  {
   "cell_type": "code",
   "execution_count": 38,
   "id": "e807f8eb",
   "metadata": {},
   "outputs": [
    {
     "data": {
      "image/png": "[encoded data removed]",
      "text/plain": [
       "<Figure size 720x576 with 1 Axes>"
      ]
     },
     "metadata": {},
     "output_type": "display_data"
    }
   ],
   "source": [
    "d3 = grouped_by_hotel[\"Booking Done\"].median().reset_index().rename(columns = {\"Booking Done\" : \"Median_Lead_Time\"})\n",
    "\n",
    "plt.figure(figsize = (10,8))\n",
    "\n",
    "sns.barplot(x = d3[\"Type of Hotel\"], y = d3[\"Median_Lead_Time\"])\n",
    "\n",
    "plt.show()\n"
   ]
  },
  {
   "cell_type": "markdown",
   "id": "00cfe34f",
   "metadata": {},
   "source": [
    "**Motel has slightly higher median lead time. Also median lead time is higher in each case, this means customers plan their hotel visits to early.**"
   ]
  },
  {
   "cell_type": "markdown",
   "id": "5caf3e74",
   "metadata": {},
   "source": [
    "**8. What is preferred stay length in each hotel?**"
   ]
  },
  {
   "cell_type": "code",
   "execution_count": 39,
   "id": "982f6d90",
   "metadata": {},
   "outputs": [
    {
     "data": {
      "image/png": "[encoded data removed]",
      "text/plain": [
       "<Figure size 720x576 with 1 Axes>"
      ]
     },
     "metadata": {},
     "output_type": "display_data"
    }
   ],
   "source": [
    "not_canceled = df1[df1[\"Cancellation\"] == 0]\n",
    "\n",
    "d4 = not_canceled[not_canceled[\"Total_stay\"]<15]\n",
    "\n",
    "plt.figure(figsize = (10,8))\n",
    "\n",
    "sns.countplot(x = d4[\"Total_stay\"], hue = d4[\"Type of Hotel\"])\n",
    "\n",
    "plt.show()"
   ]
  },
  {
   "cell_type": "markdown",
   "id": "036ec9e4",
   "metadata": {},
   "source": [
    "**As we can see that most common stay length upto 4 days and generally people prefer Motel for short stay, but for long stays Villa is preferred.**"
   ]
  },
  {
   "cell_type": "markdown",
   "id": "c0aab703",
   "metadata": {},
   "source": [
    "**9. Which hotel has longer waiting time?**"
   ]
  },
  {
   "cell_type": "code",
   "execution_count": 40,
   "id": "4b24aba5",
   "metadata": {},
   "outputs": [
    {
     "data": {
      "image/png": "[encoded data removed]",
      "text/plain": [
       "<Figure size 720x576 with 1 Axes>"
      ]
     },
     "metadata": {},
     "output_type": "display_data"
    }
   ],
   "source": [
    "d5 = pd.DataFrame(grouped_by_hotel[\"Waiting List\"].mean().reset_index().rename(columns = {\"Waiting List\": \"Avg_Waiting_Period\"}))\n",
    "\n",
    "plt.figure(figsize = (10,8))\n",
    "\n",
    "sns.barplot(x = d5[\"Type of Hotel\"], y = d5[\"Avg_Waiting_Period\"])\n",
    "\n",
    "plt.show()\n"
   ]
  },
  {
   "cell_type": "markdown",
   "id": "2b713c0c",
   "metadata": {},
   "source": [
    "**Here Motel has longer waiting time, hence Motel has more demand than Villa.**"
   ]
  },
  {
   "cell_type": "markdown",
   "id": "034f9829",
   "metadata": {},
   "source": [
    "**10. Which hotel has higher bookings cancellation rate.**"
   ]
  },
  {
   "cell_type": "code",
   "execution_count": 41,
   "id": "1e2db433",
   "metadata": {},
   "outputs": [
    {
     "name": "stdout",
     "output_type": "stream",
     "text": [
      "               total_cancelled_bookings  total_bookings  cancel_%\n",
      "Type of Hotel                                                    \n",
      "Motel                             24756           59976     41.28\n",
      "Villa                              8754           29800     29.38\n"
     ]
    }
   ],
   "source": [
    "# Selecting and counting number of cancelled bookings for each hotel.\n",
    "\n",
    "cancelled_data = df1[df1['Cancellation'] == 1]\n",
    "cancel_grp = cancelled_data.groupby('Type of Hotel')\n",
    "d6 = pd.DataFrame(cancel_grp.size()).rename(columns = {0:'total_cancelled_bookings'})\n",
    "\n",
    "# Counting total number of bookings for each type of hotel.\n",
    "\n",
    "grouped_by_hotel = df1.groupby('Type of Hotel')\n",
    "total_booking = grouped_by_hotel.size()\n",
    "d7 = pd.DataFrame(total_booking).rename(columns = {0: 'total_bookings'})\n",
    "d8 = pd.concat([d6,d7], axis = 1)\n",
    "\n",
    "# Calculating cancel percentage.\n",
    "\n",
    "d8['cancel_%'] = round((d8['total_cancelled_bookings']/d8['total_bookings'])*100,2)\n",
    "\n",
    "print(d8)"
   ]
  },
  {
   "cell_type": "code",
   "execution_count": 42,
   "id": "a132c5fa",
   "metadata": {},
   "outputs": [
    {
     "data": {
      "image/png": "[encoded data removed]",
      "text/plain": [
       "<Figure size 720x360 with 1 Axes>"
      ]
     },
     "metadata": {},
     "output_type": "display_data"
    }
   ],
   "source": [
    "plt.figure(figsize = (10,5))\n",
    "\n",
    "sns.barplot(x = d8.index, y = d8['cancel_%'])\n",
    "\n",
    "plt.show()"
   ]
  },
  {
   "cell_type": "markdown",
   "id": "f53fceb3",
   "metadata": {},
   "source": [
    "**Almost 42 % of Motel bookings got canceled.**"
   ]
  },
  {
   "cell_type": "markdown",
   "id": "4ed94123",
   "metadata": {},
   "source": [
    "**11. Which is the most common channel for booking hotels?**"
   ]
  },
  {
   "cell_type": "code",
   "execution_count": 43,
   "id": "2e8323fb",
   "metadata": {},
   "outputs": [
    {
     "data": {
      "text/html": [
       "<div>\n",
       "<style scoped>\n",
       "    .dataframe tbody tr th:only-of-type {\n",
       "        vertical-align: middle;\n",
       "    }\n",
       "\n",
       "    .dataframe tbody tr th {\n",
       "        vertical-align: top;\n",
       "    }\n",
       "\n",
       "    .dataframe thead th {\n",
       "        text-align: right;\n",
       "    }\n",
       "</style>\n",
       "<table border=\"1\" class=\"dataframe\">\n",
       "  <thead>\n",
       "    <tr style=\"text-align: right;\">\n",
       "      <th></th>\n",
       "      <th>Distribution_Channel</th>\n",
       "      <th>Counts</th>\n",
       "    </tr>\n",
       "  </thead>\n",
       "  <tbody>\n",
       "    <tr>\n",
       "      <th>0</th>\n",
       "      <td>Online TA</td>\n",
       "      <td>44363</td>\n",
       "    </tr>\n",
       "    <tr>\n",
       "      <th>1</th>\n",
       "      <td>Offline TA/TO</td>\n",
       "      <td>18289</td>\n",
       "    </tr>\n",
       "    <tr>\n",
       "      <th>2</th>\n",
       "      <td>Groups</td>\n",
       "      <td>13114</td>\n",
       "    </tr>\n",
       "    <tr>\n",
       "      <th>3</th>\n",
       "      <td>Website</td>\n",
       "      <td>9390</td>\n",
       "    </tr>\n",
       "    <tr>\n",
       "      <th>4</th>\n",
       "      <td>Corporate</td>\n",
       "      <td>3896</td>\n",
       "    </tr>\n",
       "    <tr>\n",
       "      <th>5</th>\n",
       "      <td>Complementary</td>\n",
       "      <td>552</td>\n",
       "    </tr>\n",
       "    <tr>\n",
       "      <th>6</th>\n",
       "      <td>Aviation</td>\n",
       "      <td>172</td>\n",
       "    </tr>\n",
       "  </tbody>\n",
       "</table>\n",
       "</div>"
      ],
      "text/plain": [
       "  Distribution_Channel  Counts\n",
       "0            Online TA   44363\n",
       "1        Offline TA/TO   18289\n",
       "2               Groups   13114\n",
       "3              Website    9390\n",
       "4            Corporate    3896\n",
       "5        Complementary     552\n",
       "6             Aviation     172"
      ]
     },
     "execution_count": 43,
     "metadata": {},
     "output_type": "execute_result"
    }
   ],
   "source": [
    "d9 = df1[\"Booking Type\"].value_counts().rename_axis(\"Distribution_Channel\").reset_index(name = \"Counts\")\n",
    "\n",
    "d9.head(10)"
   ]
  },
  {
   "cell_type": "code",
   "execution_count": 44,
   "id": "735e8cf4",
   "metadata": {},
   "outputs": [
    {
     "data": {
      "image/png": "[encoded data removed]",
      "text/plain": [
       "<Figure size 864x720 with 1 Axes>"
      ]
     },
     "metadata": {},
     "output_type": "display_data"
    }
   ],
   "source": [
    "New_labels = d9.Distribution_Channel\n",
    "\n",
    "value = d9.Counts\n",
    "\n",
    "plt.figure(figsize = (12,10))\n",
    "\n",
    "plt.title(\"Booking By Distribution Channels\")\n",
    "\n",
    "plt.pie(value, labels = New_labels, autopct = \"%0.2f%%\")\n",
    "\n",
    "plt.show()\n",
    "\n"
   ]
  },
  {
   "cell_type": "markdown",
   "id": "54347526",
   "metadata": {},
   "source": [
    "**Mostly people going for Online TA for booking.**"
   ]
  },
  {
   "cell_type": "markdown",
   "id": "01af4f4b",
   "metadata": {},
   "source": [
    "**12. Which channel has longer average waiting time?**"
   ]
  },
  {
   "cell_type": "code",
   "execution_count": 45,
   "id": "ca7b5a97",
   "metadata": {},
   "outputs": [
    {
     "data": {
      "image/png": "[encoded data removed]",
      "text/plain": [
       "<Figure size 720x576 with 1 Axes>"
      ]
     },
     "metadata": {},
     "output_type": "display_data"
    }
   ],
   "source": [
    "group_by_dc = df1.groupby(\"Booking Type\")\n",
    "\n",
    "d10 = pd.DataFrame(round((group_by_dc[\"Waiting List\"]).mean(),2)).reset_index().rename(columns = {\"Waiting List\": \"Avg_Waiting_Time\"})\n",
    "\n",
    "plt.figure(figsize = (10,8))\n",
    "\n",
    "plt.title(\"Waiting Time By Distribution Channels\")\n",
    "\n",
    "sns.barplot(x = d10[\"Booking Type\"], y = d10[\"Avg_Waiting_Time\"])\n",
    "\n",
    "plt.show()"
   ]
  },
  {
   "cell_type": "markdown",
   "id": "a321ead6",
   "metadata": {},
   "source": [
    "**As we can check here while booking via Offline TA/TO and Groups, both have to wait a little longer to confirm the booking.**"
   ]
  },
  {
   "cell_type": "markdown",
   "id": "ef371c46",
   "metadata": {},
   "source": [
    "**13. Which distribution channel provide better revenue generating deals for hotels?**"
   ]
  },
  {
   "cell_type": "code",
   "execution_count": 46,
   "id": "d0fb7cad",
   "metadata": {},
   "outputs": [
    {
     "data": {
      "image/png": "[encoded data removed]",
      "text/plain": [
       "<Figure size 720x576 with 1 Axes>"
      ]
     },
     "metadata": {},
     "output_type": "display_data"
    }
   ],
   "source": [
    "group_by_dc_hotel = df1.groupby([\"Booking Type\", \"Type of Hotel\"])\n",
    "\n",
    "d11 = pd.DataFrame(round((group_by_dc_hotel[\"Per Day Charges\"]).agg(np.mean),2)).reset_index().rename(columns = {\"Per Day Charges\": \"Avg_ADR\"})\n",
    "\n",
    "plt.figure(figsize = (10,8))\n",
    "\n",
    "sns.barplot(x = d11[\"Booking Type\"], y = d11[\"Avg_ADR\"], hue = d11[\"Type of Hotel\"])\n",
    "\n",
    "plt.show()\n"
   ]
  },
  {
   "cell_type": "markdown",
   "id": "e2128302",
   "metadata": {},
   "source": [
    "**Here Motel and Villa both are generating better revenue through the Online TA and Website.**"
   ]
  },
  {
   "cell_type": "markdown",
   "id": "984e0ce6",
   "metadata": {},
   "source": [
    "**14. Which significant distribution channel has highest cancellation percentage?**"
   ]
  },
  {
   "cell_type": "code",
   "execution_count": 47,
   "id": "1a8b7ddd",
   "metadata": {},
   "outputs": [
    {
     "data": {
      "image/png": "[encoded data removed]",
      "text/plain": [
       "<Figure size 720x576 with 1 Axes>"
      ]
     },
     "metadata": {},
     "output_type": "display_data"
    }
   ],
   "source": [
    "d12 = pd.DataFrame((group_by_dc[\"Cancellation\"].sum()/group_by_dc.size())*100).reset_index().rename(columns = {0: \"Cancel_%\"})\n",
    "\n",
    "plt.figure(figsize = (10,8))\n",
    "\n",
    "sns.barplot(x = d12[\"Booking Type\"], y = d12[\"Cancel_%\"])\n",
    "\n",
    "plt.show()"
   ]
  },
  {
   "cell_type": "markdown",
   "id": "1de31a7e",
   "metadata": {},
   "source": [
    "**As we can see here that Groups has highest booking cancellation %.**"
   ]
  },
  {
   "cell_type": "markdown",
   "id": "b63ace8a",
   "metadata": {},
   "source": [
    "**15. Checking monthly cancellations and customer type?**"
   ]
  },
  {
   "cell_type": "code",
   "execution_count": 48,
   "id": "a1304238",
   "metadata": {},
   "outputs": [
    {
     "data": {
      "image/png": "[encoded data removed]",
      "text/plain": [
       "<Figure size 720x576 with 1 Axes>"
      ]
     },
     "metadata": {},
     "output_type": "display_data"
    }
   ],
   "source": [
    "d13 = df1.groupby(\"Customer\")[\"Cancellation\"].describe()\n",
    "\n",
    "plt.figure(figsize = (10,8))\n",
    "\n",
    "sns.barplot(x=d13.index, y=d13[\"mean\"] * 100)\n",
    "\n",
    "plt.show()"
   ]
  },
  {
   "cell_type": "markdown",
   "id": "94825336",
   "metadata": {},
   "source": [
    "**Transient customer types have higher cancellations.**"
   ]
  },
  {
   "cell_type": "markdown",
   "id": "1c240f1a",
   "metadata": {},
   "source": [
    "**16. What is the relationship between lead time and cancellation?**"
   ]
  },
  {
   "cell_type": "code",
   "execution_count": 49,
   "id": "e3b3b91e",
   "metadata": {},
   "outputs": [
    {
     "data": {
      "image/png": "[encoded data removed]",
      "text/plain": [
       "<Figure size 720x576 with 1 Axes>"
      ]
     },
     "metadata": {},
     "output_type": "display_data"
    }
   ],
   "source": [
    "d14 = df1.groupby(\"Booking Done\")[\"Cancellation\"].describe()\n",
    "\n",
    "plt.figure(figsize = (10,8))\n",
    "\n",
    "sns.scatterplot(x = d14.index, y = d14[\"mean\"] * 100)\n",
    "\n",
    "plt.show()"
   ]
  },
  {
   "cell_type": "markdown",
   "id": "d03ae9f1",
   "metadata": {},
   "source": [
    "**Lead time has a positive correlation with cancellation.**"
   ]
  },
  {
   "cell_type": "markdown",
   "id": "12dfe8cd",
   "metadata": {},
   "source": [
    "**17. What is the relationship between previous cancellations and cancellation?**"
   ]
  },
  {
   "cell_type": "code",
   "execution_count": 50,
   "id": "897091c2",
   "metadata": {},
   "outputs": [
    {
     "data": {
      "image/png": "[encoded data removed]",
      "text/plain": [
       "<Figure size 720x576 with 1 Axes>"
      ]
     },
     "metadata": {},
     "output_type": "display_data"
    }
   ],
   "source": [
    "plt.figure(figsize = (10,8))\n",
    "\n",
    "plt.title (\"Previous_Cancellations Vs Cancellations\")\n",
    "\n",
    "sns.barplot(x = \"Prev Cancel\" ,y = \"Cancellation\", data = df1)\n",
    "\n",
    "plt.show()\n"
   ]
  },
  {
   "cell_type": "markdown",
   "id": "22b93889",
   "metadata": {},
   "source": [
    "**Those who have cancelled previously once have high chance of cancellation compared to previous cancellations.**"
   ]
  },
  {
   "cell_type": "code",
   "execution_count": null,
   "id": "f5c58ca1",
   "metadata": {},
   "outputs": [],
   "source": []
  }
 ],
 "metadata": {
  "kernelspec": {
   "display_name": "Python 3",
   "language": "python",
   "name": "python3"
  },
  "language_info": {
   "codemirror_mode": {
    "name": "ipython",
    "version": 3
   },
   "file_extension": ".py",
   "mimetype": "text/x-python",
   "name": "python",
   "nbconvert_exporter": "python",
   "pygments_lexer": "ipython3",
   "version": "3.8.8"
  }
 },
 "nbformat": 4,
 "nbformat_minor": 5
}
